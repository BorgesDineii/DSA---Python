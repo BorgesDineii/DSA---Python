{
 "cells": [
  {
   "cell_type": "markdown",
   "metadata": {},
   "source": [
    "# Arquivo para praticar aula vistas na DSA"
   ]
  },
  {
   "cell_type": "markdown",
   "metadata": {},
   "source": [
    "Objeto"
   ]
  },
  {
   "cell_type": "code",
   "execution_count": 9,
   "metadata": {},
   "outputs": [],
   "source": [
    "# Criando uma classe\n",
    "class Geladeira:\n",
    "    def __init__(self, alimento, validade):\n",
    "        self.alimento = alimento\n",
    "        self.validade = validade"
   ]
  },
  {
   "cell_type": "code",
   "execution_count": 10,
   "metadata": {},
   "outputs": [],
   "source": [
    "Geladeira1 = Geladeira(\"leite\", \"2023-10-01\")\n",
    "# Geladeira2 = Geladeira(\"Ovo\", \"2023-10-05\")\n",
    "# Geladeira3 = Geladeira(\"Cebola\", \"2023-10-10\")"
   ]
  },
  {
   "cell_type": "code",
   "execution_count": 12,
   "metadata": {},
   "outputs": [
    {
     "data": {
      "text/plain": [
       "'leite'"
      ]
     },
     "execution_count": 12,
     "metadata": {},
     "output_type": "execute_result"
    }
   ],
   "source": [
    "Geladeira1.alimento"
   ]
  },
  {
   "cell_type": "code",
   "execution_count": 14,
   "metadata": {},
   "outputs": [
    {
     "data": {
      "text/plain": [
       "'2023-10-01'"
      ]
     },
     "execution_count": 14,
     "metadata": {},
     "output_type": "execute_result"
    }
   ],
   "source": [
    "Geladeira1.validade"
   ]
  },
  {
   "cell_type": "code",
   "execution_count": 2,
   "metadata": {},
   "outputs": [],
   "source": [
    "class GuardaRoupa:\n",
    "    def __init__ (self, roupa, tamanho, tipo):\n",
    "        self.roupa = roupa\n",
    "        self.tamanho = tamanho\n",
    "        self.tipo = tipo"
   ]
  },
  {
   "cell_type": "code",
   "execution_count": 3,
   "metadata": {},
   "outputs": [],
   "source": [
    "GuardaRoupa1 = GuardaRoupa (\"Casaco\", \"M\", \"Casual\") "
   ]
  },
  {
   "cell_type": "code",
   "execution_count": 4,
   "metadata": {},
   "outputs": [
    {
     "data": {
      "text/plain": [
       "'Casaco'"
      ]
     },
     "execution_count": 4,
     "metadata": {},
     "output_type": "execute_result"
    }
   ],
   "source": [
    "GuardaRoupa1.roupa"
   ]
  },
  {
   "cell_type": "code",
   "execution_count": 5,
   "metadata": {},
   "outputs": [
    {
     "data": {
      "text/plain": [
       "'M'"
      ]
     },
     "execution_count": 5,
     "metadata": {},
     "output_type": "execute_result"
    }
   ],
   "source": [
    "GuardaRoupa1.tamanho"
   ]
  },
  {
   "cell_type": "code",
   "execution_count": 6,
   "metadata": {},
   "outputs": [
    {
     "data": {
      "text/plain": [
       "'Casual'"
      ]
     },
     "execution_count": 6,
     "metadata": {},
     "output_type": "execute_result"
    }
   ],
   "source": [
    "GuardaRoupa1.tipo"
   ]
  },
  {
   "cell_type": "code",
   "execution_count": 17,
   "metadata": {},
   "outputs": [],
   "source": [
    "class Aluno:\n",
    "    def __init__ (self, nome, idade, media, materia):\n",
    "        self.nome = nome\n",
    "        self.idade = idade \n",
    "        self.media = media\n",
    "        self.materia = materia\n",
    "    def listAluno(self):\n",
    "        print(\"O aluno \" + self.nome + \" tem \" + str(self.idade) + \" anos e possui media de \" + str(self.media) + \" em \" + self.materia)"
   ]
  },
  {
   "cell_type": "code",
   "execution_count": 18,
   "metadata": {},
   "outputs": [],
   "source": [
    "Aluno1 = Aluno(\"Jorge\", \"25\", \"6.5\", \"quimica\")"
   ]
  },
  {
   "cell_type": "code",
   "execution_count": 19,
   "metadata": {},
   "outputs": [
    {
     "name": "stdout",
     "output_type": "stream",
     "text": [
      "O aluno Jorge tem 25anos e possui media de 6.5 em quimica\n"
     ]
    }
   ],
   "source": [
    "Aluno1.listAluno()"
   ]
  },
  {
   "cell_type": "code",
   "execution_count": 20,
   "metadata": {},
   "outputs": [
    {
     "data": {
      "text/plain": [
       "True"
      ]
     },
     "execution_count": 20,
     "metadata": {},
     "output_type": "execute_result"
    }
   ],
   "source": [
    "hasattr(Aluno1, \"media\")"
   ]
  },
  {
   "cell_type": "code",
   "execution_count": 21,
   "metadata": {},
   "outputs": [
    {
     "data": {
      "text/plain": [
       "True"
      ]
     },
     "execution_count": 21,
     "metadata": {},
     "output_type": "execute_result"
    }
   ],
   "source": [
    "hasattr(Aluno1, 'nome')"
   ]
  },
  {
   "cell_type": "code",
   "execution_count": 22,
   "metadata": {},
   "outputs": [],
   "source": [
    "setattr(Aluno1, \"media\", \"7.5\")"
   ]
  },
  {
   "cell_type": "code",
   "execution_count": 24,
   "metadata": {},
   "outputs": [
    {
     "data": {
      "text/plain": [
       "True"
      ]
     },
     "execution_count": 24,
     "metadata": {},
     "output_type": "execute_result"
    }
   ],
   "source": [
    "hasattr(Aluno1, \"media\")"
   ]
  },
  {
   "cell_type": "code",
   "execution_count": 26,
   "metadata": {},
   "outputs": [
    {
     "name": "stdout",
     "output_type": "stream",
     "text": [
      "O aluno Jorge tem 25anos e possui media de 7.5 em quimica\n"
     ]
    }
   ],
   "source": [
    "Aluno1.listAluno()"
   ]
  },
  {
   "cell_type": "code",
   "execution_count": 31,
   "metadata": {},
   "outputs": [],
   "source": [
    "class Computador:\n",
    "    def __init__ (self, processador, monitor, Ram):\n",
    "        self.processador = processador\n",
    "        self.monitor = monitor\n",
    "        self.Ram = Ram\n",
    "    def listComputador(self):\n",
    "        print(\"O computador tem processador de \" + self.processador + \" com \" + str(self.monitor) + \" monitores e \" + str(self.Ram) + \"GB de memoria RAM.\")"
   ]
  },
  {
   "cell_type": "code",
   "execution_count": 32,
   "metadata": {},
   "outputs": [],
   "source": [
    "ComputadorGamer = Computador(\"i7\", \"2\", \"16\")"
   ]
  },
  {
   "cell_type": "code",
   "execution_count": 33,
   "metadata": {},
   "outputs": [
    {
     "name": "stdout",
     "output_type": "stream",
     "text": [
      "O computador tem processador de i7 com 2 monitores e 16GB de memoria RAM.\n"
     ]
    }
   ],
   "source": [
    "ComputadorGamer.listComputador()"
   ]
  },
  {
   "cell_type": "code",
   "execution_count": 35,
   "metadata": {},
   "outputs": [
    {
     "data": {
      "text/plain": [
       "True"
      ]
     },
     "execution_count": 35,
     "metadata": {},
     "output_type": "execute_result"
    }
   ],
   "source": [
    "hasattr(ComputadorGamer, \"monitor\")"
   ]
  },
  {
   "cell_type": "code",
   "execution_count": 37,
   "metadata": {},
   "outputs": [],
   "source": [
    "setattr(ComputadorGamer, 'monitor', \"0\")"
   ]
  },
  {
   "cell_type": "code",
   "execution_count": 38,
   "metadata": {},
   "outputs": [
    {
     "name": "stdout",
     "output_type": "stream",
     "text": [
      "O computador tem processador de i7 com 0 monitores e 16GB de memoria RAM.\n"
     ]
    }
   ],
   "source": [
    "ComputadorGamer.listComputador()"
   ]
  },
  {
   "cell_type": "code",
   "execution_count": 39,
   "metadata": {},
   "outputs": [],
   "source": [
    "delattr(ComputadorGamer, \"monitor\")"
   ]
  },
  {
   "cell_type": "code",
   "execution_count": 42,
   "metadata": {},
   "outputs": [
    {
     "data": {
      "text/plain": [
       "False"
      ]
     },
     "execution_count": 42,
     "metadata": {},
     "output_type": "execute_result"
    }
   ],
   "source": [
    "hasattr(ComputadorGamer, \"monitor\")"
   ]
  },
  {
   "cell_type": "markdown",
   "metadata": {},
   "source": [
    "# Praticando metodo"
   ]
  },
  {
   "cell_type": "code",
   "execution_count": null,
   "metadata": {},
   "outputs": [],
   "source": [
    "class Computador():\n",
    "    def __init__(self, cpu = 1):\n",
    "        self.cpu = cpu\n",
    "    def ligado():\n",
    "        return(self, cpu.ligado)"
   ]
  },
  {
   "cell_type": "markdown",
   "metadata": {},
   "source": [
    "# Herança\n",
    "\n",
    "A herança é um conceito que pode ser utilizado para criação de novas classe sem perder metodos ou atributos de uma classe original fazendo com que herde alguns aspectos da superclasse.\n",
    "\n",
    "A herança pode ser util para diminuir linhas de codigo e facilitar a leitura do codigo ou manutenção caso necessario."
   ]
  },
  {
   "cell_type": "code",
   "execution_count": 1,
   "metadata": {},
   "outputs": [],
   "source": [
    "class Internet():\n",
    "    def __init__(self):\n",
    "        print(\"Objeto criado\")\n",
    "    def conectar(self):\n",
    "        print(\"Conectando a internet\")\n",
    "    def desconectar(self):\n",
    "        print(\"Desconectando a internet\")\n",
    "    def caiu(self):\n",
    "        print(\"Sua net caiu paizao\")"
   ]
  },
  {
   "cell_type": "code",
   "execution_count": 2,
   "metadata": {},
   "outputs": [],
   "source": [
    "class Celular(Internet):\n",
    "    def __init__(self):\n",
    "        Internet.__init__(self)\n",
    "        print(\"Objeto Celular criado\")\n",
    "    def wifi(self):\n",
    "        print(\"Ligando o wifi\")\n",
    "    def desligando(self):\n",
    "        print(\"Desligando celular\")"
   ]
  },
  {
   "cell_type": "code",
   "execution_count": 4,
   "metadata": {},
   "outputs": [
    {
     "name": "stdout",
     "output_type": "stream",
     "text": [
      "Objeto criado\n",
      "Objeto Celular criado\n"
     ]
    }
   ],
   "source": [
    "iphone = Celular()"
   ]
  },
  {
   "cell_type": "code",
   "execution_count": 5,
   "metadata": {},
   "outputs": [
    {
     "name": "stdout",
     "output_type": "stream",
     "text": [
      "Ligando o wifi\n"
     ]
    }
   ],
   "source": [
    "iphone.wifi()"
   ]
  },
  {
   "cell_type": "code",
   "execution_count": 6,
   "metadata": {},
   "outputs": [
    {
     "name": "stdout",
     "output_type": "stream",
     "text": [
      "Conectando a internet\n"
     ]
    }
   ],
   "source": [
    "iphone.conectar()"
   ]
  },
  {
   "cell_type": "code",
   "execution_count": 7,
   "metadata": {},
   "outputs": [
    {
     "name": "stdout",
     "output_type": "stream",
     "text": [
      "Sua net caiu paizao\n"
     ]
    }
   ],
   "source": [
    "iphone.caiu()"
   ]
  },
  {
   "cell_type": "code",
   "execution_count": null,
   "metadata": {},
   "outputs": [],
   "source": []
  },
  {
   "cell_type": "code",
   "execution_count": null,
   "metadata": {},
   "outputs": [],
   "source": []
  },
  {
   "cell_type": "code",
   "execution_count": null,
   "metadata": {},
   "outputs": [],
   "source": []
  }
 ],
 "metadata": {
  "kernelspec": {
   "display_name": "base",
   "language": "python",
   "name": "python3"
  },
  "language_info": {
   "codemirror_mode": {
    "name": "ipython",
    "version": 3
   },
   "file_extension": ".py",
   "mimetype": "text/x-python",
   "name": "python",
   "nbconvert_exporter": "python",
   "pygments_lexer": "ipython3",
   "version": "3.9.13"
  }
 },
 "nbformat": 4,
 "nbformat_minor": 2
}
