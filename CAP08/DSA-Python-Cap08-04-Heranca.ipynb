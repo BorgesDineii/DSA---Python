{
 "cells": [
  {
   "cell_type": "markdown",
   "metadata": {},
   "source": [
    "# Introdução à programação orientada a objtos"
   ]
  },
  {
   "cell_type": "markdown",
   "metadata": {},
   "source": [
    "# Trabalhando com herança de classes em python\n",
    "\n",
    "em programação oruentada a objetos (POO), a herança é um conceito que permite criar novas classes a partir de outras classes existentes, aproveitando os atributos e metodos da classe original e adicionando novos atributos e metodos especificos.\n",
    "\n",
    "A classes original é chamada de classe mãe ou superclasse e a nova classe criada é chamada de classe filha ou subclasse.\n",
    "\n",
    "A gerança é uma tecnica importante em POO porque permite reutilizar o codigo de maneira eficiente. Em vez de criar uma nova classe do zero, a subclasse pode herdade todos os atributos e metodos da superclasse e adicionar apenas o que é necessario. Dessa forma, a subclasse pode se concentrar em fornecer funcionalidades adicionais sem precisar se preocupar com as caracteristicas basiscas da classe.\n",
    "\n",
    "Na herança , uma subclasse pode herdar os atribuots e metodos da subclasse e substitui-los ou estendê-los conforme necessario. Por exemplo, uma subclasse pode ter um metodo com o mesmo nome de um metodo da superclasse, mas com um comportamento diferente."
   ]
  },
  {
   "cell_type": "code",
   "execution_count": null,
   "metadata": {},
   "outputs": [],
   "source": []
  }
 ],
 "metadata": {
  "language_info": {
   "name": "python"
  }
 },
 "nbformat": 4,
 "nbformat_minor": 2
}
