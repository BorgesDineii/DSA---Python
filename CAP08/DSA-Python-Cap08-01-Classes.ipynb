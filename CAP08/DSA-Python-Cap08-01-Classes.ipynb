{
 "cells": [
  {
   "cell_type": "markdown",
   "metadata": {},
   "source": [
    "Data Science Academy\n",
    "\n",
    "Fundamentos de linguagem python para analise de dados e data science\n",
    "\n",
    "Intro a progração orientada a objetos"
   ]
  },
  {
   "cell_type": "markdown",
   "metadata": {},
   "source": [
    "Classes\n",
    "\n",
    "Em programação orientada a ojetos (POO), uma classe é uma estrutura que descreve um objeto, especificando os atyributos e comportamentos que o objetos deve ter. uma classe é uma especie de modelo que define as caracteristicas e ações que um objeto deve possuir.\n",
    "\n",
    "As classes são usadas para criar objetos, que são instancias da classe. Cada objeto criado a partir da mesma classe terá os mesmmos atributos e comportamentos.\n",
    "\n",
    "Para criar uma classes em python, utliza-se a palavra reservada class.\n",
    "\n",
    "O nome da classe segue a mesma convenção de nomes para criação defunções e variaveis em python, mas normalmente se usa a primeira letra maiuscula em cada palavra no nome da classe."
   ]
  },
  {
   "cell_type": "code",
   "execution_count": 8,
   "metadata": {},
   "outputs": [],
   "source": [
    "# Criando uma classe chamada Livro\n",
    "class Livro():\n",
    "    # Este metodos vai inicializar cada objeto da classe Livro\n",
    "    # O nome deste metodo é __init__\n",
    "    # (self) é uma referência a cada atributo da propria classe (e não de uma classe mae, por exemplo)\n",
    "    def __init__(self):\n",
    "        # Atributos são propriedades que cada objeto da classe Livro terá\n",
    "        self.titulo = \"Sapiens - Uma Breve História da Humanidade\"\n",
    "        self.isbn = 9988888\n",
    "        print(\"Construtor chamado para criar um objeto desta classe!\")\n",
    "\n",
    "    # Metodos são funções que executam ações nos objetos da classe\n",
    "    def imprime(self):\n",
    "        print(\"Foi criado o livro %s com ISBN %d\" % (self.titulo, self.isbn))"
   ]
  },
  {
   "cell_type": "markdown",
   "metadata": {},
   "source": [
    "Em python, a palavra reservada self é uma redenrecia ao objeto atual da classe. quando um objeto é criado a partit de uma class, self é utilizado para se referir a esse objeto especifico."
   ]
  },
  {
   "cell_type": "code",
   "execution_count": 9,
   "metadata": {},
   "outputs": [
    {
     "name": "stdout",
     "output_type": "stream",
     "text": [
      "Construtor chamado para criar um objeto desta classe!\n"
     ]
    }
   ],
   "source": [
    "# Criando uma instanacia da classe Livro\n",
    "Livro1 = Livro()"
   ]
  },
  {
   "cell_type": "code",
   "execution_count": 10,
   "metadata": {},
   "outputs": [
    {
     "data": {
      "text/plain": [
       "__main__.Livro"
      ]
     },
     "execution_count": 10,
     "metadata": {},
     "output_type": "execute_result"
    }
   ],
   "source": [
    "# O objeto Livro1 é do tipo Livro\n",
    "type(Livro1)"
   ]
  },
  {
   "cell_type": "code",
   "execution_count": 11,
   "metadata": {},
   "outputs": [
    {
     "data": {
      "text/plain": [
       "'Sapiens - Uma Breve História da Humanidade'"
      ]
     },
     "execution_count": 11,
     "metadata": {},
     "output_type": "execute_result"
    }
   ],
   "source": [
    "#Atribuito do objeto Livro1\n",
    "Livro1.titulo"
   ]
  },
  {
   "cell_type": "code",
   "execution_count": 12,
   "metadata": {},
   "outputs": [
    {
     "name": "stdout",
     "output_type": "stream",
     "text": [
      "Foi criado o livro Sapiens - Uma Breve História da Humanidade com ISBN 9988888\n"
     ]
    }
   ],
   "source": [
    "Livro1.imprime()"
   ]
  },
  {
   "cell_type": "code",
   "execution_count": 13,
   "metadata": {},
   "outputs": [],
   "source": [
    "# Criando a classe Livro com parametros no metodos construtor\n",
    "\n",
    "class Livro():\n",
    "    def __init__(self, titulo, isbn):\n",
    "        self.titulo = titulo\n",
    "        self.isbn = isbn\n",
    "        print(\"Construtor chamado para criar um objeto desta classe!\")\n",
    "\n",
    "    def imprime(self, titulo, isbn):\n",
    "        print(\"Esse é o livro %s e ISBN %d\" % (titulo, isbn))"
   ]
  },
  {
   "cell_type": "code",
   "execution_count": 14,
   "metadata": {},
   "outputs": [
    {
     "name": "stdout",
     "output_type": "stream",
     "text": [
      "Construtor chamado para criar um objeto desta classe!\n"
     ]
    }
   ],
   "source": [
    "# Criando o objeto Livro2 que é uma instancia da classe Livro\n",
    "Livro2 = Livro (\"O Poder do habito\", 77886611)"
   ]
  },
  {
   "cell_type": "code",
   "execution_count": 15,
   "metadata": {},
   "outputs": [
    {
     "data": {
      "text/plain": [
       "'O Poder do habito'"
      ]
     },
     "execution_count": 15,
     "metadata": {},
     "output_type": "execute_result"
    }
   ],
   "source": [
    "Livro2.titulo"
   ]
  },
  {
   "cell_type": "code",
   "execution_count": 16,
   "metadata": {},
   "outputs": [
    {
     "name": "stdout",
     "output_type": "stream",
     "text": [
      "Esse é o livro O poder do habito e ISBN 77886611\n"
     ]
    }
   ],
   "source": [
    "# Metofodo objeto Livro2\n",
    "Livro2.imprime(\"O poder do habito\", 77886611)"
   ]
  },
  {
   "cell_type": "code",
   "execution_count": 20,
   "metadata": {},
   "outputs": [],
   "source": [
    "# Criando a classe cachorro\n",
    "class Algoritmo():\n",
    "    def __init__(self, tipo_algo):\n",
    "        self.tipo = tipo_algo\n",
    "        print(\"Construtor chamado para criar um objeto desta classe.\")"
   ]
  },
  {
   "cell_type": "code",
   "execution_count": 21,
   "metadata": {},
   "outputs": [
    {
     "name": "stdout",
     "output_type": "stream",
     "text": [
      "Construtor chamado para criar um objeto desta classe.\n"
     ]
    }
   ],
   "source": [
    "# Criando um objeto a partir da classe\n",
    "algo1 = Algoritmo(tipo_algo =  'Random Forest')"
   ]
  },
  {
   "cell_type": "code",
   "execution_count": 22,
   "metadata": {},
   "outputs": [
    {
     "name": "stdout",
     "output_type": "stream",
     "text": [
      "Construtor chamado para criar um objeto desta classe.\n"
     ]
    }
   ],
   "source": [
    "algo2 = Algoritmo(tipo_algo = 'Deep Learning')"
   ]
  },
  {
   "cell_type": "code",
   "execution_count": 23,
   "metadata": {},
   "outputs": [
    {
     "data": {
      "text/plain": [
       "'Random Forest'"
      ]
     },
     "execution_count": 23,
     "metadata": {},
     "output_type": "execute_result"
    }
   ],
   "source": [
    "# Atribuito da classe\n",
    "algo1.tipo"
   ]
  },
  {
   "cell_type": "code",
   "execution_count": 24,
   "metadata": {},
   "outputs": [
    {
     "data": {
      "text/plain": [
       "'Deep Learning'"
      ]
     },
     "execution_count": 24,
     "metadata": {},
     "output_type": "execute_result"
    }
   ],
   "source": [
    "# Atrubuito da classe\n",
    "algo2.tipo"
   ]
  },
  {
   "cell_type": "markdown",
   "metadata": {},
   "source": [
    "## Fim"
   ]
  }
 ],
 "metadata": {
  "kernelspec": {
   "display_name": "base",
   "language": "python",
   "name": "python3"
  },
  "language_info": {
   "codemirror_mode": {
    "name": "ipython",
    "version": 3
   },
   "file_extension": ".py",
   "mimetype": "text/x-python",
   "name": "python",
   "nbconvert_exporter": "python",
   "pygments_lexer": "ipython3",
   "version": "3.9.13"
  }
 },
 "nbformat": 4,
 "nbformat_minor": 2
}
