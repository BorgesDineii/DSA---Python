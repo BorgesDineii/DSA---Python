{
 "cells": [
  {
   "cell_type": "markdown",
   "metadata": {},
   "source": [
    "Trabalhando com polimorfismo da Classes em python\n",
    "\n",
    "Polimorfismo é um dos conceitos fundamentais da programação orientada a objetos (POO). O polimorfismo oermite que objetos de diferentes classes possam ser tratados de forma uniforme. Isso signifca que um objeto pode ser tratdo como se fosse um objeto de uma superclase, mesmo que ele seja de uma subclasse.\n",
    "\n",
    "Mais especificamente, o polimorfismo se refere à habilidade de um objeto responder de diferentes formas a uma mensagem. Isso é possivel porque as subclasses podem implementar metodos com o mesmo nome que os metodos da superclasse, mas com comportamentos diferentes.\n",
    "\n",
    "Com o polimorfismo, os mesmos atributos e metodos podem ser utilizados em objetos distintos, porem, com implementações logicas diferentes."
   ]
  },
  {
   "cell_type": "code",
   "execution_count": 1,
   "metadata": {},
   "outputs": [],
   "source": [
    "# Superclasse\n",
    "class Veiculo():\n",
    "    def __init__(self, marca, modelo):\n",
    "        self.marca = marca\n",
    "        self.modelo = modelo\n",
    "    def acelerar(self):\n",
    "        pass\n",
    "    def frear(self):\n",
    "        pass"
   ]
  },
  {
   "cell_type": "code",
   "execution_count": 2,
   "metadata": {},
   "outputs": [],
   "source": [
    "class Carro(Veiculo):\n",
    "    def acelerar(self):\n",
    "        print(\"O carro esta acelerando\")\n",
    "    def frear(self):\n",
    "        print(\"O carro esta freando\")"
   ]
  },
  {
   "cell_type": "code",
   "execution_count": 3,
   "metadata": {},
   "outputs": [],
   "source": [
    "class Moto(Veiculo):\n",
    "    def acelerar(self):\n",
    "        print(\"A moto esta acelerando\")\n",
    "    def frear(self):\n",
    "        print(\"A moto esta freando\")"
   ]
  },
  {
   "cell_type": "code",
   "execution_count": 4,
   "metadata": {},
   "outputs": [],
   "source": [
    "class Aviao(Veiculo):\n",
    "    def acelerar(self):\n",
    "        print(\"O avião esta acelerando\")\n",
    "    def frear(self):\n",
    "        print(\"O avião esta freando\")\n",
    "    def decolar(self):\n",
    "        print(\"O avião esta decolando\")"
   ]
  },
  {
   "cell_type": "code",
   "execution_count": 5,
   "metadata": {},
   "outputs": [],
   "source": [
    "lista_veiculos = [Carro(\"Honda\", \"HB20\"), Moto(\"Honda\", \"CB 100R\"), Aviao(\"Boeing\", \"757\")]"
   ]
  },
  {
   "cell_type": "code",
   "execution_count": 6,
   "metadata": {},
   "outputs": [
    {
     "name": "stdout",
     "output_type": "stream",
     "text": [
      "O carro esta acelerando\n",
      "O carro esta freando\n",
      "--------------\n",
      "A moto esta acelerando\n",
      "A moto esta freando\n",
      "--------------\n",
      "O avião esta acelerando\n",
      "O avião esta freando\n",
      "O avião esta decolando\n",
      "--------------\n"
     ]
    }
   ],
   "source": [
    "# Loop\n",
    "for item in lista_veiculos:\n",
    "    # O metodo acelerar tem comportamento diferente dependendo do tipo de objeto\n",
    "    item.acelerar()\n",
    "    # O metodo frear tem comportamento diferente dependendo do tipo de objeto\n",
    "    item.frear()\n",
    "    # Executamos o metodo decolar somente se o objeto for instancia da classe Aviao\n",
    "    if isinstance(item, Aviao):\n",
    "        item.decolar()\n",
    "    print(\"--------------\")"
   ]
  },
  {
   "cell_type": "markdown",
   "metadata": {},
   "source": [
    "# Fim"
   ]
  }
 ],
 "metadata": {
  "kernelspec": {
   "display_name": "base",
   "language": "python",
   "name": "python3"
  },
  "language_info": {
   "codemirror_mode": {
    "name": "ipython",
    "version": 3
   },
   "file_extension": ".py",
   "mimetype": "text/x-python",
   "name": "python",
   "nbconvert_exporter": "python",
   "pygments_lexer": "ipython3",
   "version": "3.9.13"
  }
 },
 "nbformat": 4,
 "nbformat_minor": 2
}
